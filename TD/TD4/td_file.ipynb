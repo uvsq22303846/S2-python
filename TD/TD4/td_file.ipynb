{
 "cells": [
  {
   "cell_type": "markdown",
   "metadata": {},
   "source": [
    "# <center>  Fichiers texte - TD </center>"
   ]
  },
  {
   "cell_type": "markdown",
   "metadata": {},
   "source": [
    "## Exercice 1 :  Écriture/Lecture dans un fichier\n",
    "\n",
    "### Question 1\n",
    "Définir un programme qui écrit dans un fichier tous les entiers inférieurs à 10 000. Chaque entier est sur une ligne différente du fichier. Puis faire un programme qui lit le contenu de ce fichier et mémorise toutes les valeurs dans un tableau."
   ]
  },
  {
   "cell_type": "code",
   "execution_count": 14,
   "metadata": {},
   "outputs": [
    {
     "name": "stdout",
     "output_type": "stream",
     "text": [
      "[0, 1, 2, 3, 4, 5, 6, 7, 8, 9]\n"
     ]
    }
   ],
   "source": [
    "with open(\"texte.txt\", \"w\") as f:\n",
    "    for i in range(10000):\n",
    "        f.write(f\"{i}\\n\")\n",
    "\n",
    "\n",
    "entiers = []\n",
    "with open(\"texte.txt\", \"r\") as f:\n",
    "    for line in f:\n",
    "        entiers.append(int(line.strip()))\n",
    "print(entiers)"
   ]
  },
  {
   "cell_type": "markdown",
   "metadata": {},
   "source": [
    "### Question 2\n",
    "Refaire la même chose qu'à la question précédente, mais cette fois-ci tous les entiers sont sur une même ligne et sont séparés par un `;`."
   ]
  },
  {
   "cell_type": "code",
   "execution_count": null,
   "metadata": {},
   "outputs": [],
   "source": [
    "with open(\"texte.txt\", \"w\") as f:\n",
    "    for i in range(10000):\n",
    "        f.write(str(i))\n",
    "        if i < 9999:\n",
    "            f.write(\";\")\n",
    "\n",
    "\n",
    "entiers2 = []\n",
    "with open(\"texte.txt\", \"r\") as f:\n",
    "    ligne = f.readline().strip()\n",
    "    entiers2.extend(map(int, ligne.split(\";\")))\n",
    "print(entiers2)"
   ]
  },
  {
   "cell_type": "markdown",
   "metadata": {},
   "source": [
    "## Exercice 2:  Lecture/Écriture dans un fichier\n",
    "\n",
    "### Question 1: Écriture dans un fichier\n",
    "Définir un programme qui écrit dans un fichier nommé `'prenoms.txt'` les prénoms contenus dans le tableau initial de l'exercice précédant. Chaque prénom sera écrit sur une ligne différente:"
   ]
  },
  {
   "cell_type": "code",
   "execution_count": 43,
   "metadata": {},
   "outputs": [],
   "source": [
    "prenoms = [\"Ashley\", \"Mélody\", \"Thomas\", \"Julien\", \"Clarence\", \"Anne\", \"Christophe\"]\n",
    "\n",
    "with open(\"prenoms.txt\", \"w\") as f:\n",
    "    for elem in prenoms:\n",
    "        f.write(f\"{elem}\\n\")"
   ]
  },
  {
   "cell_type": "markdown",
   "metadata": {},
   "source": [
    "### Question 2:  Lecture dans un fichier\n",
    "\n",
    "Définir un programme qui lit les prénoms du fichier `'prenoms.txt'` et qui affiche en plus du prénom lu le nombre de caractères qui le constitue. Chaque prénom et son nombre de caractère seront affichés sur une ligne différente et séparés par une virgule."
   ]
  },
  {
   "cell_type": "code",
   "execution_count": 45,
   "metadata": {},
   "outputs": [
    {
     "name": "stdout",
     "output_type": "stream",
     "text": [
      "Ashley, 6\n",
      "Mélody, 6\n",
      "Thomas, 6\n",
      "Julien, 6\n",
      "Clarence, 8\n",
      "Anne, 4\n",
      "Christophe, 10\n"
     ]
    }
   ],
   "source": [
    "with open(\"prenoms.txt\", \"r\") as f:\n",
    "    for line in f:\n",
    "        nom = line.strip()\n",
    "        char_count = len(nom)\n",
    "        print(f\"{nom}, {char_count}\")"
   ]
  },
  {
   "cell_type": "markdown",
   "metadata": {},
   "source": [
    "### Question 3: Lecture et Ecriture dans un fichier\n",
    "\n",
    "Définir un programme qui, au moyen d'une seule boucle, lit les prénoms du fichier `prenoms.txt` et qui écrit dans un fichier `prenoms.csv` en plus du prénom le nombre de caractère qui le constitue. Sur chaque ligne du fichier le prénom et sa longueur sont séparé par une virgule."
   ]
  },
  {
   "cell_type": "code",
   "execution_count": 47,
   "metadata": {},
   "outputs": [],
   "source": [
    "with open(\"prenoms.txt\", \"r\") as file_in, open(\"prenoms.csv\", \"w\") as file_out:\n",
    "    file_out.write(\"Prénom, longueur :\\n\")\n",
    "    for line in file_in:\n",
    "        name = line.strip()\n",
    "        length = len(name)\n",
    "        file_out.write(f\"{name}, {length}\\n\")"
   ]
  },
  {
   "cell_type": "markdown",
   "metadata": {},
   "source": [
    "## Exercice 3 : JSON\n",
    "\n",
    "Écrire un programme permettant à partir d’un fichier texte en français d’en déduire la fréquence d’apparition des caractères qu’il contient. Le résultat de cette analyse sera consigné dans un fichier JSON `files/statistiques.json`. Pour des statistiques fiables, on utilisera un texte assez long disponible dans le fichier `files/zadig.txt`."
   ]
  },
  {
   "cell_type": "code",
   "execution_count": 52,
   "metadata": {},
   "outputs": [
    {
     "name": "stdout",
     "output_type": "stream",
     "text": [
      "Statistiques enregistrées avec succès dans le fichier 'statistiques.json'\n"
     ]
    }
   ],
   "source": [
    "import json\n",
    "\n",
    "def calculer_frequence(texte):\n",
    "    frequence = {}\n",
    "    for caractere in texte:\n",
    "        if caractere in frequence:\n",
    "            frequence[caractere] += 1\n",
    "        else:\n",
    "            frequence[caractere] = 1\n",
    "    return frequence\n",
    "\n",
    "with open(\"zadig.txt\", \"r\") as f:\n",
    "    texte = f.read()\n",
    "\n",
    "statistiques = calculer_frequence(texte)\n",
    "\n",
    "with open(\"statistiques.json\", \"w\") as f_json:\n",
    "    json.dump(statistiques, f_json, indent=4)\n",
    "\n",
    "print(\"Statistiques enregistrées avec succès dans le fichier 'statistiques.json'\")"
   ]
  }
 ],
 "metadata": {
  "kernelspec": {
   "display_name": "Python 3",
   "language": "python",
   "name": "python3"
  },
  "language_info": {
   "codemirror_mode": {
    "name": "ipython",
    "version": 3
   },
   "file_extension": ".py",
   "mimetype": "text/x-python",
   "name": "python",
   "nbconvert_exporter": "python",
   "pygments_lexer": "ipython3",
   "version": "3.11.7"
  },
  "latex_envs": {
   "LaTeX_envs_menu_present": true,
   "autoclose": false,
   "autocomplete": true,
   "bibliofile": "biblio.bib",
   "cite_by": "apalike",
   "current_citInitial": 1,
   "eqLabelWithNumbers": true,
   "eqNumInitial": 1,
   "hotkeys": {
    "equation": "Ctrl-E",
    "itemize": "Ctrl-I"
   },
   "labels_anchors": false,
   "latex_user_defs": false,
   "report_style_numbering": false,
   "user_envs_cfg": false
  },
  "toc": {
   "base_numbering": 1,
   "nav_menu": {},
   "number_sections": true,
   "sideBar": true,
   "skip_h1_title": false,
   "title_cell": "Table of Contents",
   "title_sidebar": "Contents",
   "toc_cell": false,
   "toc_position": {},
   "toc_section_display": true,
   "toc_window_display": false
  }
 },
 "nbformat": 4,
 "nbformat_minor": 2
}
