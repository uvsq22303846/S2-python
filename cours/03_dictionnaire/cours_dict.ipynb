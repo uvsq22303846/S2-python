{
 "cells": [
  {
   "cell_type": "markdown",
   "metadata": {
    "slideshow": {
     "slide_type": "slide"
    }
   },
   "source": [
    "# <center>  Dictionnaires </center>"
   ]
  },
  {
   "cell_type": "markdown",
   "metadata": {
    "slideshow": {
     "slide_type": "slide"
    }
   },
   "source": [
    "Les dictionnaires sont des structures de données qui, comme les tableaux, permettent de stocker des collections de valeurs. Ils sont utiles dans de nombreuses situations où les tableaux n'offrent plus assez de souplesse ou d'expressivité pour structurer un jeu de données. La particularité principale qui distingue les dictionnaires des tableaux, est que les données sont stockées sous forme de couples **(clef:valeur)**.\n"
   ]
  },
  {
   "cell_type": "markdown",
   "metadata": {
    "slideshow": {
     "slide_type": "subslide"
    }
   },
   "source": [
    "Dans un tableau\n",
    "<img src=\"img/x-1.png\" alt=\"Drawing\" style=\"height: 60px;\"/>\n",
    "on accède aux éléments par leur indice "
   ]
  },
  {
   "cell_type": "code",
   "execution_count": null,
   "metadata": {
    "scrolled": true,
    "slideshow": {
     "slide_type": "subslide"
    }
   },
   "outputs": [],
   "source": [
    "tab_astro = [\"Terre\", \"Lune\", \"Soleil\"]\n",
    "print( tab_astro[1] )"
   ]
  },
  {
   "cell_type": "markdown",
   "metadata": {
    "slideshow": {
     "slide_type": "slide"
    }
   },
   "source": [
    "Dans un dictionnaire, **il n'y a pas de notion d'ordre et donc pas de position**. Pour accéder à une valeur, on utilise  un autre moyen : une clef unique associée à chaque valeur lors de la définition du dictionnaire.\n",
    "<img src=\"img/x-2.png\" alt=\"Drawing\" style=\"height: 60px;\"/>\n",
    "Ainsi la commande `print(dic_astro['Satellite'] )` affichera \"Lune\".\n",
    "\n"
   ]
  },
  {
   "cell_type": "markdown",
   "metadata": {
    "slideshow": {
     "slide_type": "subslide"
    }
   },
   "source": [
    "Les dictionnaires sont aussi appelés **tableaux associatifs** dans le sens où ils associent des valeurs à des clefs (et non à des positions). Dans le dictionnaire `dico_astro` précédent, trois couples `clef:valeur` sont définis: `'Planete':'Terre'`, ``'Satellite':'Lune'`` et``'Etoile':'Soleil'``.\n",
    "\n",
    "On accède donc différemment aux valeurs stockées dans un tableau et dans un dictionnaire. La façon dont on veut accéder aux valeurs stockées va conditionner le choix entre une structure de données ou l'autre. \n",
    "\n",
    "Pour certains jeux de données, l'utilisation d'un tableau est naturelle car il y a une correspondance simple entre la valeur et sa position. Pour d'autres jeux de données, cette correspondance n'est pas évidente. Dans de nombreux cas, il sera avantageux d'utiliser des dictionnaires."
   ]
  },
  {
   "cell_type": "markdown",
   "metadata": {
    "slideshow": {
     "slide_type": "slide"
    }
   },
   "source": [
    "## Définition d'un dictionnaire"
   ]
  },
  {
   "cell_type": "markdown",
   "metadata": {
    "slideshow": {
     "slide_type": "subslide"
    }
   },
   "source": [
    "Il existe deux façons de définir un dictionnaire.\n",
    "La première consiste à donner littéralement l'ensemble des couples `clef-valeur` lors de sa déclaration. La collection de couples  `clef-valeur` est donnée entre accolades, et chaque couple est séparé par une virgule. Un couple `clef-valeur` est spécifié littéralement en donnant la clef suivie de la valeur qui lui est associée, les deux étant séparés par deux points, soit\n",
    "\n",
    "``dico={clef_1:valeur_1 , clef_2:valeur_2 , ...}``"
   ]
  },
  {
   "cell_type": "code",
   "execution_count": 2,
   "metadata": {
    "slideshow": {
     "slide_type": "subslide"
    }
   },
   "outputs": [
    {
     "name": "stdout",
     "output_type": "stream",
     "text": [
      "{'Planete': 'Terre', 'Satellite': 'Lune', 'Etoile': 'Soleil'}\n"
     ]
    }
   ],
   "source": [
    "dico_astro={'Planete':'Terre', 'Satellite':'Lune', 'Etoile':'Soleil'}"
   ]
  },
  {
   "cell_type": "markdown",
   "metadata": {
    "slideshow": {
     "slide_type": "subslide"
    }
   },
   "source": [
    "La deuxième façon de définir un dictionnaire, consiste à déclarer un dictionnaire vide (`{}`), puis à le remplir. Par exemple, on peut définir le dictionnaire vide `dico_astro2`de la manière suivante :\n",
    "\n",
    "``dico_astro2 = {}``\n",
    "\n"
   ]
  },
  {
   "cell_type": "markdown",
   "metadata": {
    "slideshow": {
     "slide_type": "subslide"
    }
   },
   "source": [
    "L'ajout de nouveaux couples ``clef:valeur``  au dictionnaire ``dico_astro2`` ainsi initialisé se fait avec la syntaxe suivante:\n",
    "\n",
    "``dico_astro2[clef] = valeur``\n",
    "\n",
    "On obtient ainsi la suite d'intrusctions ci-dessous :"
   ]
  },
  {
   "cell_type": "code",
   "execution_count": 2,
   "metadata": {
    "slideshow": {
     "slide_type": "subslide"
    }
   },
   "outputs": [
    {
     "name": "stdout",
     "output_type": "stream",
     "text": [
      "{'Planete': 'Terre', 'Satellite': 'Lune', 'Etoile': 'Soleil'}\n"
     ]
    }
   ],
   "source": [
    "dico_astro2 = {}\n",
    "dico_astro2['Planete']= 'Terre'\n",
    "dico_astro2['Satellite']= 'Lune'\n",
    "dico_astro2['Etoile']= 'Soleil'\n",
    "print(dico_astro2)  "
   ]
  },
  {
   "cell_type": "markdown",
   "metadata": {
    "slideshow": {
     "slide_type": "slide"
    }
   },
   "source": [
    "## Manipulation d'un dictionnaire"
   ]
  },
  {
   "cell_type": "markdown",
   "metadata": {
    "slideshow": {
     "slide_type": "subslide"
    }
   },
   "source": [
    "Les clefs des dictionnaires jouent en quelque sorte le rôle des indices dans les tableaux :\n",
    "\n",
    "- elles permettent d'accéder à une valeur stockée dans le dictionnaire,\n",
    "- elles permettent de modifier une valeur stockée dans le dictionnaire.\n",
    "\n",
    "Pour illustrer cela, on considère le tableau et le dictionnaires décrits précédemment et qui peuvent être définis de la manière suivante: \n"
   ]
  },
  {
   "cell_type": "code",
   "execution_count": 4,
   "metadata": {
    "slideshow": {
     "slide_type": "subslide"
    }
   },
   "outputs": [],
   "source": [
    "tab_astr=['Terre', 'Lune', 'Soleil']\n",
    "dico_astr={'Planete':'Terre', 'Satellite':'Lune', 'Etoile':'Soleil'}"
   ]
  },
  {
   "cell_type": "markdown",
   "metadata": {
    "slideshow": {
     "slide_type": "slide"
    }
   },
   "source": [
    "###  Accéder à une valeur"
   ]
  },
  {
   "cell_type": "markdown",
   "metadata": {
    "slideshow": {
     "slide_type": "subslide"
    }
   },
   "source": [
    " Dans un tableau la valeur correspondant à l'indice de position $i$ est accessible en faisant suivre le nom du tableau de l'indice donné entre crochets : "
   ]
  },
  {
   "cell_type": "code",
   "execution_count": 5,
   "metadata": {
    "slideshow": {
     "slide_type": "subslide"
    }
   },
   "outputs": [
    {
     "name": "stdout",
     "output_type": "stream",
     "text": [
      "Lune\n"
     ]
    }
   ],
   "source": [
    "print(tab_astr[1])"
   ]
  },
  {
   "cell_type": "markdown",
   "metadata": {
    "slideshow": {
     "slide_type": "subslide"
    }
   },
   "source": [
    "- Dans un dictionnaire c'est la même chose, à la différence que l'indice de position est remplacé par la clef : "
   ]
  },
  {
   "cell_type": "code",
   "execution_count": 6,
   "metadata": {
    "slideshow": {
     "slide_type": "subslide"
    }
   },
   "outputs": [
    {
     "name": "stdout",
     "output_type": "stream",
     "text": [
      "Lune\n"
     ]
    }
   ],
   "source": [
    "print(dico_astr['Satellite'])"
   ]
  },
  {
   "cell_type": "markdown",
   "metadata": {
    "slideshow": {
     "slide_type": "subslide"
    }
   },
   "source": [
    "**Lorsqu'on instancie une valeur d'un tableau avec un indice qui dépasse sa taille, l'interpréteur affiche un message d'erreur. Il en est de même si on utilise une clef non contenue dans le dictionnaire lors d'une instanciation.**\n",
    "\n",
    "L'instruction ci-dessous produit ainsi un message signalant une erreur de syntaxe."
   ]
  },
  {
   "cell_type": "code",
   "execution_count": 7,
   "metadata": {
    "slideshow": {
     "slide_type": "subslide"
    }
   },
   "outputs": [
    {
     "ename": "KeyError",
     "evalue": "'Galaxie'",
     "output_type": "error",
     "traceback": [
      "\u001b[0;31m---------------------------------------------------------------------------\u001b[0m",
      "\u001b[0;31mKeyError\u001b[0m                                  Traceback (most recent call last)",
      "\u001b[0;32m<ipython-input-7-6bc5475cffa3>\u001b[0m in \u001b[0;36m<module>\u001b[0;34m\u001b[0m\n\u001b[0;32m----> 1\u001b[0;31m \u001b[0mprint\u001b[0m\u001b[0;34m(\u001b[0m\u001b[0mdico_astr\u001b[0m\u001b[0;34m[\u001b[0m\u001b[0;34m'Galaxie'\u001b[0m\u001b[0;34m]\u001b[0m\u001b[0;34m)\u001b[0m\u001b[0;34m\u001b[0m\u001b[0;34m\u001b[0m\u001b[0m\n\u001b[0m",
      "\u001b[0;31mKeyError\u001b[0m: 'Galaxie'"
     ]
    }
   ],
   "source": [
    "print(dico_astr['Galaxie'])"
   ]
  },
  {
   "cell_type": "markdown",
   "metadata": {
    "slideshow": {
     "slide_type": "slide"
    }
   },
   "source": [
    "### Modifier une valeur"
   ]
  },
  {
   "cell_type": "markdown",
   "metadata": {
    "slideshow": {
     "slide_type": "subslide"
    }
   },
   "source": [
    "Pour modifier une valeur, on peut affecter une nouvelle valeur à la clef correspondant"
   ]
  },
  {
   "cell_type": "code",
   "execution_count": 8,
   "metadata": {
    "scrolled": true,
    "slideshow": {
     "slide_type": "subslide"
    }
   },
   "outputs": [
    {
     "name": "stdout",
     "output_type": "stream",
     "text": [
      "{'Planete': 'Terre', 'Satellite': 'Lune', 'Etoile': 'Soleil'}\n",
      "{'Planete': 'Mars', 'Satellite': 'Lune', 'Etoile': 'Soleil'}\n"
     ]
    }
   ],
   "source": [
    "dico_astr={'Planete':'Terre', 'Satellite':'Lune', 'Etoile':'Soleil'}\n",
    "print(dico_astr)\n",
    "dico_astr['Planete']='Mars'\n",
    "print(dico_astr)"
   ]
  },
  {
   "cell_type": "markdown",
   "metadata": {
    "slideshow": {
     "slide_type": "slide"
    }
   },
   "source": [
    "### Ajouter une valeur"
   ]
  },
  {
   "cell_type": "markdown",
   "metadata": {
    "slideshow": {
     "slide_type": "subslide"
    }
   },
   "source": [
    "Pour ajouter une valeur dans un dictionnaire, on peut affecter une valeur à une clef non encore utilisée."
   ]
  },
  {
   "cell_type": "code",
   "execution_count": 9,
   "metadata": {
    "scrolled": true,
    "slideshow": {
     "slide_type": "subslide"
    }
   },
   "outputs": [
    {
     "name": "stdout",
     "output_type": "stream",
     "text": [
      "{'Planete': 'Terre', 'Satellite': 'Lune', 'Etoile': 'Soleil'}\n",
      "{'Planete': 'Terre', 'Satellite': 'Lune', 'Etoile': 'Soleil', 'Galaxie': 'Voie Lactee'}\n"
     ]
    }
   ],
   "source": [
    "dico_astr={'Planete':'Terre', 'Satellite':'Lune', 'Etoile':'Soleil'}\n",
    "print(dico_astr)\n",
    "dico_astr['Galaxie'] = 'Voie Lactee'\n",
    "print(dico_astr)"
   ]
  },
  {
   "cell_type": "markdown",
   "metadata": {
    "slideshow": {
     "slide_type": "subslide"
    }
   },
   "source": [
    "La syntaxe utilisée pour ajouter une valeur à un dictionnaire est la même que celle employée pour modifier la valeur associée à une clef existante. Pour ajouter une valeur (ou plus exactement ajouter un couple `clef:valeur`, il faut impérativement que la clef ne soit pas encore utilisée dans le dictionnaire. En d'autres termes :\n",
    "- Si on utilise une clef existante, la syntaxe conduit à changer la valeur associée à la clef, et le dictionnaire ne change pas de taille,\n",
    "- Si on utilise une nouvelle clef, la syntaxe ajoute un couple `clef:valeur` au dictionnaire et augmente sa taille."
   ]
  },
  {
   "cell_type": "markdown",
   "metadata": {
    "slideshow": {
     "slide_type": "slide"
    }
   },
   "source": [
    "## Quelques fonctions liées à l'utilisation de dictionnaires   "
   ]
  },
  {
   "cell_type": "markdown",
   "metadata": {
    "slideshow": {
     "slide_type": "subslide"
    }
   },
   "source": [
    "### Accéder à la liste des clefs et des valeurs"
   ]
  },
  {
   "cell_type": "markdown",
   "metadata": {
    "slideshow": {
     "slide_type": "subslide"
    }
   },
   "source": [
    "* **list()** : dans certains cas, il peut être utile d'avoir accès à la liste des clefs d'un dictionnaire. Cela est réalisé par \n",
    "la méthode ``list()`` qui renvoie un tableau dont les éléments sont les clefs du dictionnaire auquel la méthode s'applique."
   ]
  },
  {
   "cell_type": "code",
   "execution_count": 10,
   "metadata": {
    "slideshow": {
     "slide_type": "subslide"
    }
   },
   "outputs": [
    {
     "name": "stdout",
     "output_type": "stream",
     "text": [
      "['Planete', 'Satellite', 'Etoile']\n"
     ]
    }
   ],
   "source": [
    "dico_astr={'Planete':'Terre', 'Satellite':'Lune', 'Etoile':'Soleil'}\n",
    "print(list(dico_astr))"
   ]
  },
  {
   "cell_type": "markdown",
   "metadata": {
    "slideshow": {
     "slide_type": "subslide"
    }
   },
   "source": [
    "* **values()** :  on peut utiliser la méthode `values()` qui renvoie un tableau dont les éléments sont les valeurs du dictionnaire à laquelle la méthode s'applique :\n",
    "\n",
    "* **list()** : on utilise alors la fonction `list()`pour extraire les éléments du résultat et en faire un tableau exploitable. "
   ]
  },
  {
   "cell_type": "code",
   "execution_count": 11,
   "metadata": {
    "slideshow": {
     "slide_type": "subslide"
    }
   },
   "outputs": [
    {
     "name": "stdout",
     "output_type": "stream",
     "text": [
      "['Terre', 'Lune', 'Soleil']\n"
     ]
    }
   ],
   "source": [
    "dico_astr={'Planete':'Terre', 'Satellite':'Lune', 'Etoile':'Soleil'}\n",
    "print(list(dico_astr.values()))\n"
   ]
  },
  {
   "cell_type": "markdown",
   "metadata": {
    "slideshow": {
     "slide_type": "slide"
    }
   },
   "source": [
    "### Supprimer une entrée (clef-valeur)"
   ]
  },
  {
   "cell_type": "markdown",
   "metadata": {
    "slideshow": {
     "slide_type": "subslide"
    }
   },
   "source": [
    "L'instruction `del(mondico[cl])` permet de supprimer du dictionnaire `mondico` la clef `cl` et la valeur associée."
   ]
  },
  {
   "cell_type": "code",
   "execution_count": 12,
   "metadata": {
    "slideshow": {
     "slide_type": "subslide"
    }
   },
   "outputs": [
    {
     "name": "stdout",
     "output_type": "stream",
     "text": [
      "{'Planete': 'Terre', 'Satellite': 'Lune'}\n"
     ]
    }
   ],
   "source": [
    "dico_astr={'Planete':'Terre', 'Satellite':'Lune', 'Etoile':'Soleil'}\n",
    "del(dico_astr['Etoile'])\n",
    "print(dico_astr)"
   ]
  },
  {
   "cell_type": "markdown",
   "metadata": {
    "slideshow": {
     "slide_type": "slide"
    }
   },
   "source": [
    "## Les clefs des dictionnaires"
   ]
  },
  {
   "cell_type": "markdown",
   "metadata": {
    "slideshow": {
     "slide_type": "subslide"
    }
   },
   "source": [
    "**Attention** : Les clés ne sont pas obligatoirement des chaînes de caractères."
   ]
  },
  {
   "cell_type": "code",
   "execution_count": 13,
   "metadata": {
    "slideshow": {
     "slide_type": "subslide"
    }
   },
   "outputs": [
    {
     "name": "stdout",
     "output_type": "stream",
     "text": [
      "{1: 'Terre', 2: 'Lune', 3: 'Soleil'}\n"
     ]
    }
   ],
   "source": [
    "dico_astr={1:'Terre', 2:'Lune', 3:'Soleil'}\n",
    "print(dico_astr)"
   ]
  },
  {
   "cell_type": "markdown",
   "metadata": {
    "slideshow": {
     "slide_type": "subslide"
    }
   },
   "source": [
    "Ce fonctionnement ressemble à celui d’un tableau mais ce n’est pas le cas.\n",
    "Si on supprime par exemple l’indice 2, les clés d’indice supérieur à l’indice supprimé ne sont pas décalées pour autant. "
   ]
  },
  {
   "cell_type": "code",
   "execution_count": 14,
   "metadata": {
    "slideshow": {
     "slide_type": "subslide"
    }
   },
   "outputs": [
    {
     "name": "stdout",
     "output_type": "stream",
     "text": [
      "{2: 'Lune', 3: 'Soleil'}\n"
     ]
    }
   ],
   "source": [
    "del(dico_astr[1])\n",
    "print(dico_astr) "
   ]
  },
  {
   "cell_type": "markdown",
   "metadata": {
    "slideshow": {
     "slide_type": "subslide"
    }
   },
   "source": [
    "Un même dictionnaire peut admettre des clefs de différents types."
   ]
  },
  {
   "cell_type": "code",
   "execution_count": null,
   "metadata": {
    "slideshow": {
     "slide_type": "subslide"
    }
   },
   "outputs": [],
   "source": [
    "semaine={}\n",
    "semaine[1]='Lundi'\n",
    "semaine['couleur']='rouge'\n",
    "print(semaine)"
   ]
  },
  {
   "cell_type": "markdown",
   "metadata": {
    "slideshow": {
     "slide_type": "slide"
    }
   },
   "source": [
    "# Fusionner deux dictionnaires"
   ]
  },
  {
   "cell_type": "markdown",
   "metadata": {
    "slideshow": {
     "slide_type": "subslide"
    }
   },
   "source": [
    "La méthode `.copy()` permet de copier le dictionnaire et la méthode `.update(..)` permet de concaténer le dictionnaire passé en paramètre à celui auquel est appliqué la méthode."
   ]
  },
  {
   "cell_type": "code",
   "execution_count": 15,
   "metadata": {
    "slideshow": {
     "slide_type": "subslide"
    }
   },
   "outputs": [
    {
     "name": "stdout",
     "output_type": "stream",
     "text": [
      "{'a': 100, 'b': 200, 'x': 300, 'y': 200}\n"
     ]
    }
   ],
   "source": [
    "dic1 = {'a': 100, 'b': 200}\n",
    "dic2 = {'x': 300, 'y': 200}\n",
    "dic=dic1.copy()\n",
    "dic.update(dic2)\n",
    "print(dic)"
   ]
  },
  {
   "cell_type": "markdown",
   "metadata": {
    "slideshow": {
     "slide_type": "slide"
    }
   },
   "source": [
    "# Construire un dictionnaire à partir de deux tableaux "
   ]
  },
  {
   "cell_type": "markdown",
   "metadata": {
    "slideshow": {
     "slide_type": "subslide"
    }
   },
   "source": [
    "Pour construire un dictionnaire il est possible de fusionner deux tableaux en utilisant la fonction `zip(clefs, valeurs)`  "
   ]
  },
  {
   "cell_type": "code",
   "execution_count": 16,
   "metadata": {
    "slideshow": {
     "slide_type": "subslide"
    }
   },
   "outputs": [
    {
     "name": "stdout",
     "output_type": "stream",
     "text": [
      "{'red': '#FF0000', 'green': '#008000', 'blue': '#0000FF'}\n"
     ]
    }
   ],
   "source": [
    "keys = ['red', 'green', 'blue']\n",
    "values = ['#FF0000','#008000', '#0000FF']\n",
    "color_dictionary = dict(zip(keys, values))\n",
    "print(color_dictionary)"
   ]
  },
  {
   "cell_type": "markdown",
   "metadata": {
    "slideshow": {
     "slide_type": "slide"
    }
   },
   "source": [
    "# Existence d'une clé"
   ]
  },
  {
   "cell_type": "markdown",
   "metadata": {
    "slideshow": {
     "slide_type": "subslide"
    }
   },
   "source": [
    "Pour vérifier si une clé existe dans un dictionnaire, on peut utiliser le test d’appartenance avec l'instruction `in` qui renvoie un booléen :"
   ]
  },
  {
   "cell_type": "code",
   "execution_count": 17,
   "metadata": {
    "slideshow": {
     "slide_type": "subslide"
    }
   },
   "outputs": [
    {
     "name": "stdout",
     "output_type": "stream",
     "text": [
      "La clé 'red' existe \n",
      "La clé 'red' existe \n"
     ]
    }
   ],
   "source": [
    "cles=list(color_dictionary)\n",
    "\n",
    "i=0\n",
    "while i<len(cles) and cles[i]!=\"red\":\n",
    "    i+=1\n",
    "if i!=len(cles) :\n",
    "    print(\"La clé 'red' existe \")\n",
    "\n",
    "#de manière compacte  \n",
    "if 'red' in cles :\n",
    "    print(\"La clé 'red' existe \")"
   ]
  },
  {
   "cell_type": "markdown",
   "metadata": {
    "slideshow": {
     "slide_type": "slide"
    }
   },
   "source": [
    "# Les valeurs des dictionnaires"
   ]
  },
  {
   "cell_type": "markdown",
   "metadata": {
    "slideshow": {
     "slide_type": "subslide"
    }
   },
   "source": [
    "Une valeur d'un dictionnaire peut être un nombre entier ou flottant, une chaîne de caractères, un booléen mais aussi des collections contenant d'autres valeurs comme un tableau ou un autre dictionnaire. Par exemple, le dictionnaire suivant contient des données hétérogènes:\n",
    "\n",
    "<img src=\"img/x-3.png\" alt=\"Drawing\" style=\"height: 150px;\"/>"
   ]
  },
  {
   "cell_type": "code",
   "execution_count": 18,
   "metadata": {
    "slideshow": {
     "slide_type": "subslide"
    }
   },
   "outputs": [
    {
     "name": "stdout",
     "output_type": "stream",
     "text": [
      "{'Satellites': 1, 'Rayon': 6378.137, 'Tellurique': True, 'Oceans': ['Pacifique', 'Atlantique', 'Indien'], 'Superficie': {'Pacifique': 49.7, 'Atlantique': 29.5, 'Indien': 20.4}}\n"
     ]
    }
   ],
   "source": [
    "terre= {}\n",
    "terre['Satellites']= 1\n",
    "terre['Rayon']= 6378.137\n",
    "terre['Tellurique']= True\n",
    "terre['Oceans']= ['Pacifique', 'Atlantique', 'Indien']\n",
    "terre['Superficie']= {'Pacifique':49.7, 'Atlantique':29.5,'Indien':20.4}\n",
    "print(terre)"
   ]
  },
  {
   "cell_type": "markdown",
   "metadata": {
    "slideshow": {
     "slide_type": "slide"
    }
   },
   "source": [
    "# Tableau  de dictionnaires"
   ]
  },
  {
   "cell_type": "markdown",
   "metadata": {
    "slideshow": {
     "slide_type": "subslide"
    }
   },
   "source": [
    "En créant un tableau de dictionnaires qui possèdent les mêmes clés, on obtient une structure qui ressemble à une base de données."
   ]
  },
  {
   "cell_type": "code",
   "execution_count": 20,
   "metadata": {
    "slideshow": {
     "slide_type": "subslide"
    }
   },
   "outputs": [
    {
     "name": "stdout",
     "output_type": "stream",
     "text": [
      "{'nom': 'Jean', 'prenom': 'Martin'}\n",
      "[{'nom': 'Jean', 'prenom': 'Martin'}, {'BDP': 12, 'Sys': 14, 'web': 18}]\n"
     ]
    }
   ],
   "source": [
    "fiche=[]\n",
    "id={}\n",
    "notes={}\n",
    "id['nom']= \"Jean\"\n",
    "id['prenom'] =\"Martin\"\n",
    "notes['BDP']= 12\n",
    "notes['Sys']= 14\n",
    "notes['web']= 18\n",
    "fiche.append(id)\n",
    "fiche.append(notes)\n",
    "print(fiche[0])\n",
    "print(fiche)"
   ]
  },
  {
   "cell_type": "markdown",
   "metadata": {
    "slideshow": {
     "slide_type": "slide"
    }
   },
   "source": [
    "## Récapitulatif et comparaison Dictionnaire/Tableau"
   ]
  },
  {
   "cell_type": "markdown",
   "metadata": {
    "slideshow": {
     "slide_type": "subslide"
    }
   },
   "source": [
    "| Opération |         Tableau   | Dictionnaire  |\n",
    "|-----------|-------------------|---------------|\n",
    "|Définition d'un conteneur vide | t=[] | d={}  |\n",
    "|Définition d'un littéral | t=[val_1, val_2, ...]| d={clef_1:val_1,clef_2:val_2, ...}|\n",
    "|Appel d'une valeur | t[indice]| d[clef]|\n",
    "|Ajout d'une valeur| t.append(nlle_val)|d[clef]=nlle_val |\n",
    "|Modification d'une valeur| t[indice]=nlle_val|d[clef]=nlle_val |\n",
    "|Nombre d'éléments| len(t)|len(d) |\n",
    "|Suppression d'un élément| del(t[indice])|del(d[clef]) |"
   ]
  },
  {
   "cell_type": "markdown",
   "metadata": {
    "slideshow": {
     "slide_type": "slide"
    }
   },
   "source": [
    "# Le format JSON"
   ]
  },
  {
   "cell_type": "markdown",
   "metadata": {
    "slideshow": {
     "slide_type": "subslide"
    }
   },
   "source": [
    "Le format JavaScript Object Notation (JSON) est issu de la notation des objets dans le langage JavaScript. c'est un format de données très répandu permettant de stocker des données sous une forme structurée. Il ne comporte que des associations clés→valeurs (à l’instar des dictionnaires), ainsi que des listes ordonnées de valeurs (comme les listes en Python). Une valeur peut être une autre association clés→valeurs, une liste de valeurs, un entier, un nombre réel, une chaîne de caractères, un booléen ou une valeur nulle.Sa syntaxe est similaire à celle des dictionnaires Python."
   ]
  },
  {
   "cell_type": "code",
   "execution_count": null,
   "metadata": {
    "slideshow": {
     "slide_type": "subslide"
    }
   },
   "outputs": [],
   "source": [
    "{\n",
    "   \"nom cours\" : \"BDP\",\n",
    "   \"theme\" : \"Algorithmique\",\n",
    "   \"etudiants\" : [\n",
    "              {\n",
    "               \"nom\" : \"Martin\",\n",
    "               \"prenom\" : \"Jean\",\n",
    "               \"Dept\" : \"95\" \n",
    "                },\n",
    "                {\n",
    "                \"nom\" : \"Mohamed\",\n",
    "                \"prenom\" : \"Ali\",\n",
    "                \"Dept\" : \"93\" \n",
    "                },\n",
    "                {\n",
    "                  \"nom\" : \"Lina\",\n",
    "                  \"prenom\" : \"Bertrand\",\n",
    "                  \"Dept\" : \"95\" \n",
    "                }\n",
    "              ]\n",
    "\n",
    "}"
   ]
  },
  {
   "cell_type": "markdown",
   "metadata": {
    "slideshow": {
     "slide_type": "slide"
    }
   },
   "source": [
    "## Lecture et écriture de fichier JSON"
   ]
  },
  {
   "cell_type": "markdown",
   "metadata": {
    "slideshow": {
     "slide_type": "subslide"
    }
   },
   "source": [
    "Pour manipuler les fichiers JSON, on utilise le module `json` de Python."
   ]
  },
  {
   "cell_type": "markdown",
   "metadata": {
    "slideshow": {
     "slide_type": "subslide"
    }
   },
   "source": [
    "### Lire un fichier JSON"
   ]
  },
  {
   "cell_type": "markdown",
   "metadata": {
    "slideshow": {
     "slide_type": "subslide"
    }
   },
   "source": [
    "La fonction `loads(texteJSON)` permet de décoder le texte JSON passé en argument et de le transformer en dictionnaire ou une liste"
   ]
  },
  {
   "cell_type": "code",
   "execution_count": 21,
   "metadata": {
    "slideshow": {
     "slide_type": "subslide"
    }
   },
   "outputs": [
    {
     "name": "stdout",
     "output_type": "stream",
     "text": [
      "{'nom cours': 'BDP', 'theme': 'Algorithmique', 'etudiants': [{'nom': 'Martin', 'prenom': 'Jean', 'Dept': '95'}, {'nom': 'Mohamed', 'prenom': 'Ali', 'Dept': '93'}, {'nom': 'Lina', 'prenom': 'Bertrand', 'Dept': '95'}]}\n"
     ]
    }
   ],
   "source": [
    "#import  json\n",
    "from json import *\n",
    "fichier = open (\"./files/bdp.json\",\"r\")\n",
    "strjson=fichier.read()\n",
    "fichier.close()\n",
    "#cours = json.loads(strjson)\n",
    "cours = loads(strjson)\n",
    "print (cours)"
   ]
  },
  {
   "cell_type": "markdown",
   "metadata": {
    "slideshow": {
     "slide_type": "subslide"
    }
   },
   "source": [
    "Ainsi il est possible d'accéder aux éléments du dictionnaire comme suit : "
   ]
  },
  {
   "cell_type": "code",
   "execution_count": 22,
   "metadata": {
    "slideshow": {
     "slide_type": "subslide"
    }
   },
   "outputs": [
    {
     "name": "stdout",
     "output_type": "stream",
     "text": [
      "BDP\n"
     ]
    }
   ],
   "source": [
    "print(cours['nom cours'])"
   ]
  },
  {
   "cell_type": "code",
   "execution_count": 23,
   "metadata": {
    "slideshow": {
     "slide_type": "fragment"
    }
   },
   "outputs": [
    {
     "name": "stdout",
     "output_type": "stream",
     "text": [
      "Algorithmique\n"
     ]
    }
   ],
   "source": [
    "print (cours['theme'])"
   ]
  },
  {
   "cell_type": "code",
   "execution_count": 24,
   "metadata": {
    "slideshow": {
     "slide_type": "fragment"
    }
   },
   "outputs": [
    {
     "name": "stdout",
     "output_type": "stream",
     "text": [
      "[{'nom': 'Martin', 'prenom': 'Jean', 'Dept': '95'}, {'nom': 'Mohamed', 'prenom': 'Ali', 'Dept': '93'}, {'nom': 'Lina', 'prenom': 'Bertrand', 'Dept': '95'}]\n"
     ]
    }
   ],
   "source": [
    "identite=cours['etudiants']\n",
    "print(identite)"
   ]
  },
  {
   "cell_type": "markdown",
   "metadata": {
    "slideshow": {
     "slide_type": "subslide"
    }
   },
   "source": [
    "Comme le resultat de la variable `identite` est un tableau, alors il est possible d'accéder aux éléments en utilisant l'accès direct ou en utilisant les boucles. "
   ]
  },
  {
   "cell_type": "code",
   "execution_count": 25,
   "metadata": {
    "slideshow": {
     "slide_type": "subslide"
    }
   },
   "outputs": [
    {
     "name": "stdout",
     "output_type": "stream",
     "text": [
      "{'nom': 'Martin', 'prenom': 'Jean', 'Dept': '95'}\n",
      "3\n"
     ]
    }
   ],
   "source": [
    "iddico=identite[0]\n",
    "print (iddico)\n",
    "print(len(iddico))"
   ]
  },
  {
   "cell_type": "code",
   "execution_count": 26,
   "metadata": {
    "slideshow": {
     "slide_type": "fragment"
    }
   },
   "outputs": [
    {
     "name": "stdout",
     "output_type": "stream",
     "text": [
      "{'nom': 'Martin', 'prenom': 'Jean', 'Dept': '95'}\n",
      "{'nom': 'Mohamed', 'prenom': 'Ali', 'Dept': '93'}\n",
      "{'nom': 'Lina', 'prenom': 'Bertrand', 'Dept': '95'}\n"
     ]
    }
   ],
   "source": [
    "i=0\n",
    "while (i<len(identite)):\n",
    "    print(identite[i])\n",
    "    i=i+1"
   ]
  },
  {
   "cell_type": "markdown",
   "metadata": {
    "slideshow": {
     "slide_type": "subslide"
    }
   },
   "source": [
    "Cette écriture est équivalente à une écriture un peu complexe "
   ]
  },
  {
   "cell_type": "code",
   "execution_count": 28,
   "metadata": {
    "slideshow": {
     "slide_type": "fragment"
    }
   },
   "outputs": [
    {
     "name": "stdout",
     "output_type": "stream",
     "text": [
      "{'nom': 'Martin', 'prenom': 'Jean', 'Dept': '95'}\n"
     ]
    }
   ],
   "source": [
    "print (cours['etudiants'][0])"
   ]
  },
  {
   "cell_type": "markdown",
   "metadata": {
    "slideshow": {
     "slide_type": "subslide"
    }
   },
   "source": [
    "Puisque le résultat `iddico` est également un dictionnaire, alors il est possible d'accéer aux éléméments: "
   ]
  },
  {
   "cell_type": "code",
   "execution_count": 29,
   "metadata": {
    "slideshow": {
     "slide_type": "fragment"
    }
   },
   "outputs": [
    {
     "name": "stdout",
     "output_type": "stream",
     "text": [
      "Martin\n",
      "95\n",
      "Jean\n"
     ]
    }
   ],
   "source": [
    "print (iddico['nom'])\n",
    "print (iddico['Dept'])\n",
    "print (iddico['prenom'])"
   ]
  },
  {
   "cell_type": "markdown",
   "metadata": {
    "slideshow": {
     "slide_type": "slide"
    }
   },
   "source": [
    "### Écrire dans un fichier JSON"
   ]
  },
  {
   "cell_type": "markdown",
   "metadata": {
    "slideshow": {
     "slide_type": "subslide"
    }
   },
   "source": [
    "La fonction `dumps(dictionnaire,sort_keys=False,indent=n)` transforme un dictionnaire ou une liste passé en paramètre en texte au format JSON. La variable `sort_keys` permet de trier (`True`) ou non (`False`) les clés du dictionnaire dans l’ordre alphabétique mises au format JSON avec une éventuelle indentation de n espaces (`indent=n`).<br>\n",
    "La fonction `dump(dictionnaire, fichier, indent=n)` permet d'enregistrer en texte au format JSON le dictionnaire directement dans le fichier précédemment ouvert, avec une éventuelle indentation."
   ]
  },
  {
   "cell_type": "code",
   "execution_count": 30,
   "metadata": {
    "slideshow": {
     "slide_type": "subslide"
    }
   },
   "outputs": [],
   "source": [
    "from json import *\n",
    "cours2 = {'nom cours': 'Java',\n",
    " 'theme': 'Algorithmique',\n",
    " 'etudiants': [{'nom': 'Martin', 'prenom': 'Jean', 'Dept': '95'},\n",
    "  {'nom': 'Mohamed', 'prenom': 'Ali', 'Dept': '93'},\n",
    "  {'nom': 'dupond', 'prenom': 'Bertrand', 'Dept': '95'}]}"
   ]
  },
  {
   "cell_type": "code",
   "execution_count": 31,
   "metadata": {
    "slideshow": {
     "slide_type": "subslide"
    }
   },
   "outputs": [
    {
     "name": "stdout",
     "output_type": "stream",
     "text": [
      "{\n",
      "    \"etudiants\": [\n",
      "        {\n",
      "            \"Dept\": \"95\",\n",
      "            \"nom\": \"Martin\",\n",
      "            \"prenom\": \"Jean\"\n",
      "        },\n",
      "        {\n",
      "            \"Dept\": \"93\",\n",
      "            \"nom\": \"Mohamed\",\n",
      "            \"prenom\": \"Ali\"\n",
      "        },\n",
      "        {\n",
      "            \"Dept\": \"95\",\n",
      "            \"nom\": \"dupond\",\n",
      "            \"prenom\": \"Bertrand\"\n",
      "        }\n",
      "    ],\n",
      "    \"nom cours\": \"Java\",\n",
      "    \"theme\": \"Algorithmique\"\n",
      "}\n"
     ]
    }
   ],
   "source": [
    "fichier2 = open (\"./files/coursjava.json\",\"w\")\n",
    "\n",
    "cours2_json = dumps(cours2,sort_keys=True,indent=4)\n",
    "print(cours2_json)\n",
    "\n",
    "dump(cours2, fichier2, indent=4)\n",
    "\n",
    "fichier2.close()"
   ]
  }
 ],
 "metadata": {
  "celltoolbar": "Diaporama",
  "kernelspec": {
   "display_name": "Python 3",
   "language": "python",
   "name": "python3"
  },
  "language_info": {
   "codemirror_mode": {
    "name": "ipython",
    "version": 3
   },
   "file_extension": ".py",
   "mimetype": "text/x-python",
   "name": "python",
   "nbconvert_exporter": "python",
   "pygments_lexer": "ipython3",
   "version": "3.11.7"
  },
  "latex_envs": {
   "LaTeX_envs_menu_present": true,
   "autoclose": false,
   "autocomplete": true,
   "bibliofile": "biblio.bib",
   "cite_by": "apalike",
   "current_citInitial": 1,
   "eqLabelWithNumbers": true,
   "eqNumInitial": 1,
   "hotkeys": {
    "equation": "Ctrl-E",
    "itemize": "Ctrl-I"
   },
   "labels_anchors": false,
   "latex_user_defs": false,
   "report_style_numbering": false,
   "user_envs_cfg": false
  },
  "toc": {
   "base_numbering": 1,
   "nav_menu": {},
   "number_sections": false,
   "sideBar": false,
   "skip_h1_title": false,
   "title_cell": "Table of Contents",
   "title_sidebar": "Contents",
   "toc_cell": false,
   "toc_position": {},
   "toc_section_display": false,
   "toc_window_display": false
  }
 },
 "nbformat": 4,
 "nbformat_minor": 2
}
